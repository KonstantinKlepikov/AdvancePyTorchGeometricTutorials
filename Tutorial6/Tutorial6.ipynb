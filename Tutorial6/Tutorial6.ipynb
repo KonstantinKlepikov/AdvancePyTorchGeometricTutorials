{
 "cells": [
  {
   "cell_type": "markdown",
   "metadata": {},
   "source": [
    "# Tutorial6: Memory-efficient aggregations"
   ]
  },
  {
   "cell_type": "markdown",
   "metadata": {},
   "source": [
    "## Outline"
   ]
  },
  {
   "cell_type": "markdown",
   "metadata": {},
   "source": [
    "- Representation of sparse matrices\n",
    "- The `SparseTensor` class\n",
    "- Use of `SparseTensor` in PyG"
   ]
  },
  {
   "cell_type": "markdown",
   "metadata": {},
   "source": [
    "Official resources:\n",
    "* [PyG documentation](https://pytorch-geometric.readthedocs.io/en/latest/notes/sparse_tensor.html)"
   ]
  },
  {
   "cell_type": "markdown",
   "metadata": {},
   "source": [
    "### Imports"
   ]
  },
  {
   "cell_type": "code",
   "execution_count": null,
   "metadata": {},
   "outputs": [],
   "source": [
    "import matplotlib.pyplot as plt\n",
    "\n",
    "plt.rcParams.update({'font.size': 16})"
   ]
  },
  {
   "cell_type": "markdown",
   "metadata": {},
   "source": [
    "## Representation of sparse matrices"
   ]
  },
  {
   "cell_type": "markdown",
   "metadata": {},
   "source": [
    "See [Scipy sparse](https://docs.scipy.org/doc/scipy/reference/sparse.html)"
   ]
  },
  {
   "cell_type": "markdown",
   "metadata": {},
   "source": [
    "### A sparse matrix"
   ]
  },
  {
   "cell_type": "code",
   "execution_count": null,
   "metadata": {},
   "outputs": [
    {
     "data": {
      "text/plain": [
       "array([[0., 0., 0., 4., 0.],\n",
       "       [0., 0., 2., 0., 0.],\n",
       "       [0., 5., 1., 0., 0.],\n",
       "       [0., 0., 0., 0., 0.],\n",
       "       [6., 3., 0., 0., 0.]])"
      ]
     },
     "execution_count": 2,
     "metadata": {},
     "output_type": "execute_result"
    }
   ],
   "source": [
    "import numpy as np\n",
    "\n",
    "n = 5\n",
    "row = [2, 1, 4, 0, 2, 4]\n",
    "col = [2, 2, 1, 3, 1, 0]\n",
    "data = [1, 2, 3, 4, 5, 6]\n",
    "A = np.zeros((n, n))\n",
    "A[row, col] = data\n",
    "A"
   ]
  },
  {
   "cell_type": "markdown",
   "metadata": {},
   "source": [
    "### `coo` format (coordinate format)"
   ]
  },
  {
   "cell_type": "markdown",
   "metadata": {},
   "source": [
    "**Good:** Easy construction and conversion to different formats\n",
    "\n",
    "**Bad:** Arithmetic operations, slicing"
   ]
  },
  {
   "cell_type": "code",
   "execution_count": null,
   "metadata": {},
   "outputs": [
    {
     "data": {
      "text/plain": [
       "<COOrdinate sparse matrix of dtype 'int64'\n",
       "\twith 6 stored elements and shape (5, 5)>"
      ]
     },
     "execution_count": 3,
     "metadata": {},
     "output_type": "execute_result"
    }
   ],
   "source": [
    "from scipy.sparse import coo_matrix\n",
    "\n",
    "A_coo = coo_matrix((data, (row, col)), shape=(n, n))\n",
    "A_coo"
   ]
  },
  {
   "cell_type": "code",
   "execution_count": 4,
   "metadata": {},
   "outputs": [
    {
     "data": {
      "text/plain": [
       "array([[0, 0, 0, 4, 0],\n",
       "       [0, 0, 2, 0, 0],\n",
       "       [0, 5, 1, 0, 0],\n",
       "       [0, 0, 0, 0, 0],\n",
       "       [6, 3, 0, 0, 0]])"
      ]
     },
     "execution_count": 4,
     "metadata": {},
     "output_type": "execute_result"
    }
   ],
   "source": [
    "A_coo.toarray()"
   ]
  },
  {
   "cell_type": "code",
   "execution_count": 5,
   "metadata": {},
   "outputs": [
    {
     "data": {
      "text/plain": [
       "matrix([[0, 0, 0, 4, 0],\n",
       "        [0, 0, 2, 0, 0],\n",
       "        [0, 5, 1, 0, 0],\n",
       "        [0, 0, 0, 0, 0],\n",
       "        [6, 3, 0, 0, 0]])"
      ]
     },
     "execution_count": 5,
     "metadata": {},
     "output_type": "execute_result"
    }
   ],
   "source": [
    "A_coo.todense()"
   ]
  },
  {
   "cell_type": "code",
   "execution_count": 6,
   "metadata": {},
   "outputs": [
    {
     "data": {
      "text/plain": [
       "array([[0., 0., 0., 4., 0.],\n",
       "       [0., 0., 2., 0., 0.],\n",
       "       [0., 5., 1., 0., 0.],\n",
       "       [0., 0., 0., 0., 0.],\n",
       "       [6., 3., 0., 0., 0.]])"
      ]
     },
     "execution_count": 6,
     "metadata": {},
     "output_type": "execute_result"
    }
   ],
   "source": [
    "A_coo_from_dense = coo_matrix(A)\n",
    "A_coo_from_dense.toarray()"
   ]
  },
  {
   "cell_type": "markdown",
   "metadata": {},
   "source": [
    "### `csr` format (compressed sparse row format)"
   ]
  },
  {
   "cell_type": "markdown",
   "metadata": {},
   "source": [
    "**Good:** Fast entry-wise arithmetic operations, efficient row slicing, fast matrix-vector products\n",
    "\n",
    "**Bad:** Slow column slicing, expensive changes of the sparsity pattern"
   ]
  },
  {
   "cell_type": "code",
   "execution_count": null,
   "metadata": {},
   "outputs": [
    {
     "data": {
      "text/plain": [
       "array([[0., 0., 0., 4., 0.],\n",
       "       [0., 0., 2., 0., 0.],\n",
       "       [0., 5., 1., 0., 0.],\n",
       "       [0., 0., 0., 0., 0.],\n",
       "       [6., 3., 0., 0., 0.]])"
      ]
     },
     "execution_count": 7,
     "metadata": {},
     "output_type": "execute_result"
    }
   ],
   "source": [
    "from scipy.sparse import csr_matrix\n",
    "\n",
    "A"
   ]
  },
  {
   "cell_type": "code",
   "execution_count": null,
   "metadata": {},
   "outputs": [],
   "source": [
    "# Column indices, sorted according to the row\n",
    "indices = [\n",
    "    3,  # indices of the non zero column in the row 0\n",
    "    2,  # indices of the non zero column in the row 1\n",
    "    1,\n",
    "    2,  # indices of the non zero column in the row 2\n",
    "    # indices of the non zero column in the row 3\n",
    "    0,\n",
    "    1,\n",
    "]   # indices of the non zero column in the row 4"
   ]
  },
  {
   "cell_type": "code",
   "execution_count": null,
   "metadata": {},
   "outputs": [],
   "source": [
    "# Data sorted in the same order\n",
    "data = [4, 2, 5, 1, 6, 3]"
   ]
  },
  {
   "cell_type": "code",
   "execution_count": null,
   "metadata": {},
   "outputs": [],
   "source": [
    "# Position of the column indices for each row\n",
    "indptr = [\n",
    "    0,  # Always start from 0\n",
    "    1,  # Row 0: the column idx are in position 0:1\n",
    "    2,  # Row 1: the column idx are in position 1:2\n",
    "    4,  # Row 2: the column idx are in position 2:4\n",
    "    4,  # Row 3: the column idx are in position 4:4 (no values)\n",
    "    6,\n",
    "]       # Row 4: the column idx are in position 4:6"
   ]
  },
  {
   "cell_type": "code",
   "execution_count": 11,
   "metadata": {},
   "outputs": [
    {
     "data": {
      "text/plain": [
       "<Compressed Sparse Row sparse matrix of dtype 'int64'\n",
       "\twith 6 stored elements and shape (5, 5)>"
      ]
     },
     "execution_count": 11,
     "metadata": {},
     "output_type": "execute_result"
    }
   ],
   "source": [
    "A_csr = csr_matrix((data, indices, indptr), shape=(n, n))\n",
    "A_csr"
   ]
  },
  {
   "cell_type": "code",
   "execution_count": 12,
   "metadata": {},
   "outputs": [
    {
     "data": {
      "text/plain": [
       "array([[0, 0, 0, 4, 0],\n",
       "       [0, 0, 2, 0, 0],\n",
       "       [0, 5, 1, 0, 0],\n",
       "       [0, 0, 0, 0, 0],\n",
       "       [6, 3, 0, 0, 0]])"
      ]
     },
     "execution_count": 12,
     "metadata": {},
     "output_type": "execute_result"
    }
   ],
   "source": [
    "A_csr.toarray()"
   ]
  },
  {
   "cell_type": "markdown",
   "metadata": {},
   "source": [
    "### `csc` format (compressed sparse column format)\n",
    "\n",
    "**Good:** Fast entry-wise arithmetic operations, efficient column slicing, ok matrix-vector products (csr is usually faster)\n",
    "\n",
    "**Bad:** Slow row slicing, expensive changes of the sparsity pattern"
   ]
  },
  {
   "cell_type": "code",
   "execution_count": null,
   "metadata": {},
   "outputs": [
    {
     "data": {
      "text/plain": [
       "array([[0., 0., 0., 4., 0.],\n",
       "       [0., 0., 2., 0., 0.],\n",
       "       [0., 5., 1., 0., 0.],\n",
       "       [0., 0., 0., 0., 0.],\n",
       "       [6., 3., 0., 0., 0.]])"
      ]
     },
     "execution_count": 13,
     "metadata": {},
     "output_type": "execute_result"
    }
   ],
   "source": [
    "from scipy.sparse import csc_matrix\n",
    "\n",
    "A"
   ]
  },
  {
   "cell_type": "code",
   "execution_count": null,
   "metadata": {},
   "outputs": [],
   "source": [
    "# Row indices, sorted according to the column\n",
    "indices = [\n",
    "    4,  # indices of the non zero column in the column 0\n",
    "    2,\n",
    "    4,  # indices of the non zero column in the column 1\n",
    "    1,\n",
    "    2,  # indices of the non zero column in the column 2\n",
    "    0,  # indices of the non zero column in the column 4\n",
    "]       # indices of the non zero column in the column 5"
   ]
  },
  {
   "cell_type": "code",
   "execution_count": null,
   "metadata": {},
   "outputs": [],
   "source": [
    "# Data sorted in the same order\n",
    "data = [\n",
    "    6,\n",
    "    5,\n",
    "    3,\n",
    "    2,\n",
    "    1,\n",
    "    4,\n",
    "]"
   ]
  },
  {
   "cell_type": "code",
   "execution_count": null,
   "metadata": {},
   "outputs": [],
   "source": [
    "# Position of the row indices for each column\n",
    "indptr = [\n",
    "    0,  # Always start from 0\n",
    "    1,  # Column 0: the row idx are in position 0:1\n",
    "    3,  # Column 1: the row idx are in position 1:3\n",
    "    5,  # Column 2: the row idx are in position 3:5\n",
    "    6,  # Column 3: the row idx are in position 5:6 (no values)\n",
    "    6,\n",
    "]       # Column 4: the row idx are in position 6:6 (no values)"
   ]
  },
  {
   "cell_type": "code",
   "execution_count": 17,
   "metadata": {},
   "outputs": [
    {
     "data": {
      "text/plain": [
       "<Compressed Sparse Column sparse matrix of dtype 'int64'\n",
       "\twith 6 stored elements and shape (5, 5)>"
      ]
     },
     "execution_count": 17,
     "metadata": {},
     "output_type": "execute_result"
    }
   ],
   "source": [
    "A_csc = csc_matrix((data, indices, indptr), shape=(n, n))\n",
    "A_csc"
   ]
  },
  {
   "cell_type": "code",
   "execution_count": 18,
   "metadata": {},
   "outputs": [
    {
     "data": {
      "text/plain": [
       "array([[0, 0, 0, 4, 0],\n",
       "       [0, 0, 2, 0, 0],\n",
       "       [0, 5, 1, 0, 0],\n",
       "       [0, 0, 0, 0, 0],\n",
       "       [6, 3, 0, 0, 0]])"
      ]
     },
     "execution_count": 18,
     "metadata": {},
     "output_type": "execute_result"
    }
   ],
   "source": [
    "A_csc.toarray()"
   ]
  },
  {
   "cell_type": "markdown",
   "metadata": {},
   "source": [
    "## The `SparseTensor` class\n",
    "* [PyTorch Sparse documentation](https://github.com/rusty1s/pytorch_sparse)"
   ]
  },
  {
   "cell_type": "code",
   "execution_count": null,
   "metadata": {},
   "outputs": [],
   "source": [
    "import torch\n",
    "from torch_sparse import SparseTensor"
   ]
  },
  {
   "cell_type": "code",
   "execution_count": null,
   "metadata": {},
   "outputs": [],
   "source": [
    "# But col and row need to have dtype torch.long\n",
    "A_st = SparseTensor(\n",
    "    row=torch.Tensor(row).to(torch.long),\n",
    "    col=torch.Tensor(col).to(torch.long),\n",
    "    value=torch.Tensor(data),\n",
    "    sparse_sizes=(n, n),\n",
    ")"
   ]
  },
  {
   "cell_type": "code",
   "execution_count": 21,
   "metadata": {},
   "outputs": [
    {
     "data": {
      "text/plain": [
       "SparseTensor(row=tensor([0, 1, 2, 2, 4, 4]),\n",
       "             col=tensor([3, 2, 1, 2, 0, 1]),\n",
       "             val=tensor([2., 5., 1., 6., 4., 3.]),\n",
       "             size=(5, 5), nnz=6, density=24.00%)"
      ]
     },
     "execution_count": 21,
     "metadata": {},
     "output_type": "execute_result"
    }
   ],
   "source": [
    "A_st"
   ]
  },
  {
   "cell_type": "code",
   "execution_count": 22,
   "metadata": {},
   "outputs": [
    {
     "data": {
      "text/plain": [
       "tensor([[0., 0., 0., 2., 0.],\n",
       "        [0., 0., 5., 0., 0.],\n",
       "        [0., 1., 6., 0., 0.],\n",
       "        [0., 0., 0., 0., 0.],\n",
       "        [4., 3., 0., 0., 0.]])"
      ]
     },
     "execution_count": 22,
     "metadata": {},
     "output_type": "execute_result"
    }
   ],
   "source": [
    "A_st.to_dense()"
   ]
  },
  {
   "cell_type": "code",
   "execution_count": 23,
   "metadata": {},
   "outputs": [
    {
     "data": {
      "text/plain": [
       "tensor([[0., 0., 0., 1., 0.],\n",
       "        [0., 0., 1., 0., 0.],\n",
       "        [0., 1., 1., 0., 0.],\n",
       "        [0., 0., 0., 0., 0.],\n",
       "        [1., 1., 0., 0., 0.]])"
      ]
     },
     "execution_count": 23,
     "metadata": {},
     "output_type": "execute_result"
    }
   ],
   "source": [
    "A_st_no_val = SparseTensor(\n",
    "    row=torch.Tensor(row).to(torch.long),\n",
    "    col=torch.Tensor(col).to(torch.long),\n",
    "    sparse_sizes=(n, n),\n",
    ")\n",
    "A_st_no_val.to_dense()"
   ]
  },
  {
   "cell_type": "markdown",
   "metadata": {},
   "source": [
    "Creation of `SparseTensor`"
   ]
  },
  {
   "cell_type": "code",
   "execution_count": 24,
   "metadata": {},
   "outputs": [
    {
     "data": {
      "text/plain": [
       "SparseTensor(row=tensor([0, 1, 2, 2, 4, 4]),\n",
       "             col=tensor([3, 2, 1, 2, 0, 1]),\n",
       "             val=tensor([4., 2., 5., 1., 6., 3.], dtype=torch.float64),\n",
       "             size=(5, 5), nnz=6, density=24.00%)"
      ]
     },
     "execution_count": 24,
     "metadata": {},
     "output_type": "execute_result"
    }
   ],
   "source": [
    "SparseTensor.from_dense(torch.tensor(A))"
   ]
  },
  {
   "cell_type": "code",
   "execution_count": 25,
   "metadata": {},
   "outputs": [
    {
     "data": {
      "text/plain": [
       "SparseTensor(row=tensor([0, 1, 2, 2, 4, 4]),\n",
       "             col=tensor([3, 2, 1, 2, 0, 1]),\n",
       "             val=tensor([4, 2, 5, 1, 6, 3]),\n",
       "             size=(5, 5), nnz=6, density=24.00%)"
      ]
     },
     "execution_count": 25,
     "metadata": {},
     "output_type": "execute_result"
    }
   ],
   "source": [
    "SparseTensor.from_scipy(A_coo)"
   ]
  },
  {
   "cell_type": "markdown",
   "metadata": {},
   "source": [
    "Conversion to standard fomats:"
   ]
  },
  {
   "cell_type": "code",
   "execution_count": 26,
   "metadata": {},
   "outputs": [
    {
     "data": {
      "text/plain": [
       "(tensor([0, 1, 2, 2, 4, 4]),\n",
       " tensor([3, 2, 1, 2, 0, 1]),\n",
       " tensor([2., 5., 1., 6., 4., 3.]))"
      ]
     },
     "execution_count": 26,
     "metadata": {},
     "output_type": "execute_result"
    }
   ],
   "source": [
    "row, col, value = A_st.coo()\n",
    "# rowptr, col, value = A_st.csr()\n",
    "# colptr, row, value = A_st.csc()\n",
    "row, col, value"
   ]
  },
  {
   "cell_type": "markdown",
   "metadata": {},
   "source": [
    "Basic operations:"
   ]
  },
  {
   "cell_type": "code",
   "execution_count": null,
   "metadata": {},
   "outputs": [],
   "source": [
    "# A_st = A_st[:100, :100]  # Slicing, indexing and masking support\n",
    "# A_st = A_st.set_diag()   # Add diagonal entries\n",
    "# A_st_t = A_st.t()        # Transpose\n",
    "# out = A_st.matmul(x)     # Sparse-dense matrix multiplication\n",
    "# A_st = A_st.matmul(A_st)  # Sparse-sparse matrix multiplication"
   ]
  },
  {
   "cell_type": "markdown",
   "metadata": {},
   "source": [
    "## Use of `SparseTensor` in PyG"
   ]
  },
  {
   "cell_type": "markdown",
   "metadata": {},
   "source": [
    "### Representation of adjacency matrices"
   ]
  },
  {
   "cell_type": "code",
   "execution_count": 28,
   "metadata": {},
   "outputs": [
    {
     "name": "stderr",
     "output_type": "stream",
     "text": [
      "Downloading https://github.com/kimiyoung/planetoid/raw/master/data/ind.cora.x\n",
      "Downloading https://github.com/kimiyoung/planetoid/raw/master/data/ind.cora.tx\n",
      "Downloading https://github.com/kimiyoung/planetoid/raw/master/data/ind.cora.allx\n",
      "Downloading https://github.com/kimiyoung/planetoid/raw/master/data/ind.cora.y\n",
      "Downloading https://github.com/kimiyoung/planetoid/raw/master/data/ind.cora.ty\n",
      "Downloading https://github.com/kimiyoung/planetoid/raw/master/data/ind.cora.ally\n",
      "Downloading https://github.com/kimiyoung/planetoid/raw/master/data/ind.cora.graph\n",
      "Downloading https://github.com/kimiyoung/planetoid/raw/master/data/ind.cora.test.index\n",
      "Processing...\n",
      "Done!\n"
     ]
    }
   ],
   "source": [
    "from torch_geometric.datasets import Planetoid\n",
    "\n",
    "dataset = Planetoid('dataset/Planetoid', name='Cora')"
   ]
  },
  {
   "cell_type": "code",
   "execution_count": 29,
   "metadata": {},
   "outputs": [
    {
     "data": {
      "text/plain": [
       "Data(x=[2708, 1433], edge_index=[2, 10556], y=[2708], train_mask=[2708], val_mask=[2708], test_mask=[2708])"
      ]
     },
     "execution_count": 29,
     "metadata": {},
     "output_type": "execute_result"
    }
   ],
   "source": [
    "dataset[0]"
   ]
  },
  {
   "cell_type": "code",
   "execution_count": 30,
   "metadata": {},
   "outputs": [
    {
     "name": "stderr",
     "output_type": "stream",
     "text": [
      "/home/kklepikov/_code_/PytorchGeometricTutorial/.venv/lib/python3.12/site-packages/torch_geometric/data/in_memory_dataset.py:300: UserWarning: It is not recommended to directly access the internal storage format `data` of an 'InMemoryDataset'. If you are absolutely certain what you are doing, access the internal storage via `InMemoryDataset._data` instead to suppress this warning. Alternatively, you can access stacked individual attributes of every graph via `dataset.{attr_name}`.\n",
      "  warnings.warn(msg)\n"
     ]
    },
    {
     "data": {
      "text/plain": [
       "tensor([[ 633, 1862, 2582,  ...,  598, 1473, 2706],\n",
       "        [   0,    0,    0,  ..., 2707, 2707, 2707]])"
      ]
     },
     "execution_count": 30,
     "metadata": {},
     "output_type": "execute_result"
    }
   ],
   "source": [
    "edge_index = dataset.data.edge_index\n",
    "edge_index"
   ]
  },
  {
   "cell_type": "code",
   "execution_count": 31,
   "metadata": {},
   "outputs": [
    {
     "data": {
      "text/plain": [
       "SparseTensor(row=tensor([   0,    0,    0,  ..., 2707, 2707, 2707]),\n",
       "             col=tensor([ 633, 1862, 2582,  ...,  598, 1473, 2706]),\n",
       "             size=(2708, 2708), nnz=10556, density=0.14%)"
      ]
     },
     "execution_count": 31,
     "metadata": {},
     "output_type": "execute_result"
    }
   ],
   "source": [
    "num_nodes = dataset[0].x.shape[0]\n",
    "adj = SparseTensor(\n",
    "    row=edge_index[0],\n",
    "    col=edge_index[1],\n",
    "    sparse_sizes=(num_nodes, num_nodes),\n",
    ")\n",
    "adj"
   ]
  },
  {
   "cell_type": "markdown",
   "metadata": {},
   "source": [
    "Direct conversion:"
   ]
  },
  {
   "cell_type": "code",
   "execution_count": 32,
   "metadata": {},
   "outputs": [
    {
     "data": {
      "text/plain": [
       "Data(x=[2708, 1433], y=[2708], train_mask=[2708], val_mask=[2708], test_mask=[2708], adj_t=[2708, 2708, nnz=10556])"
      ]
     },
     "execution_count": 32,
     "metadata": {},
     "output_type": "execute_result"
    }
   ],
   "source": [
    "import torch_geometric.transforms as T\n",
    "\n",
    "dataset_st = Planetoid('dataset/Planetoid', name='Cora', transform=T.ToSparseTensor())\n",
    "dataset_st[0]"
   ]
  },
  {
   "cell_type": "code",
   "execution_count": 33,
   "metadata": {},
   "outputs": [
    {
     "data": {
      "text/plain": [
       "SparseTensor(row=tensor([   0,    0,    0,  ..., 2707, 2707, 2707]),\n",
       "             col=tensor([ 633, 1862, 2582,  ...,  598, 1473, 2706]),\n",
       "             size=(2708, 2708), nnz=10556, density=0.14%)"
      ]
     },
     "execution_count": 33,
     "metadata": {},
     "output_type": "execute_result"
    }
   ],
   "source": [
    "dataset_st[0].adj_t"
   ]
  },
  {
   "cell_type": "markdown",
   "metadata": {},
   "source": [
    "Back to `edge_index`:"
   ]
  },
  {
   "cell_type": "code",
   "execution_count": 34,
   "metadata": {},
   "outputs": [
    {
     "data": {
      "text/plain": [
       "tensor([[   0,    0,    0,  ..., 2707, 2707, 2707],\n",
       "        [ 633, 1862, 2582,  ...,  598, 1473, 2706]])"
      ]
     },
     "execution_count": 34,
     "metadata": {},
     "output_type": "execute_result"
    }
   ],
   "source": [
    "row, col, edge_attr = dataset_st[0].adj_t.t().coo()\n",
    "edge_index = torch.stack([row, col], dim=0)\n",
    "edge_index"
   ]
  },
  {
   "cell_type": "markdown",
   "metadata": {},
   "source": [
    "### Usage in the `forward` method"
   ]
  },
  {
   "cell_type": "code",
   "execution_count": 35,
   "metadata": {},
   "outputs": [],
   "source": [
    "from torch_geometric.nn import GCNConv\n",
    "\n",
    "conv = GCNConv(dataset.data.x.shape[1], 4)"
   ]
  },
  {
   "cell_type": "code",
   "execution_count": 36,
   "metadata": {},
   "outputs": [
    {
     "data": {
      "text/plain": [
       "tensor([[-0.0319, -0.0316,  0.1168,  0.0217],\n",
       "        [ 0.1020,  0.2406,  0.0250, -0.0422],\n",
       "        [ 0.1049,  0.1904,  0.1225, -0.0343],\n",
       "        ...,\n",
       "        [-0.0712,  0.0105,  0.0312,  0.0816],\n",
       "        [ 0.0471,  0.0431, -0.0758, -0.0084],\n",
       "        [-0.0032,  0.0936, -0.0348, -0.0575]], grad_fn=<AddBackward0>)"
      ]
     },
     "execution_count": 36,
     "metadata": {},
     "output_type": "execute_result"
    }
   ],
   "source": [
    "out1 = conv(dataset.data.x, dataset[0].edge_index)\n",
    "out1"
   ]
  },
  {
   "cell_type": "code",
   "execution_count": 37,
   "metadata": {},
   "outputs": [
    {
     "name": "stderr",
     "output_type": "stream",
     "text": [
      "/home/kklepikov/_code_/PytorchGeometricTutorial/.venv/lib/python3.12/site-packages/torch_sparse/tensor.py:574: UserWarning: Sparse CSR tensor support is in beta state. If you miss a functionality in the sparse tensor support, please submit a feature request to https://github.com/pytorch/pytorch/issues. (Triggered internally at ../aten/src/ATen/SparseCsrTensorImpl.cpp:53.)\n",
      "  return torch.sparse_csr_tensor(rowptr, col, value, self.sizes())\n"
     ]
    },
    {
     "data": {
      "text/plain": [
       "tensor([[-0.0319, -0.0316,  0.1168,  0.0217],\n",
       "        [ 0.1020,  0.2406,  0.0250, -0.0422],\n",
       "        [ 0.1049,  0.1904,  0.1225, -0.0343],\n",
       "        ...,\n",
       "        [-0.0712,  0.0105,  0.0312,  0.0816],\n",
       "        [ 0.0471,  0.0431, -0.0758, -0.0084],\n",
       "        [-0.0032,  0.0936, -0.0348, -0.0575]], grad_fn=<AddBackward0>)"
      ]
     },
     "execution_count": 37,
     "metadata": {},
     "output_type": "execute_result"
    }
   ],
   "source": [
    "out2 = conv(dataset[0].x, adj.t())\n",
    "out2"
   ]
  }
 ],
 "metadata": {
  "kernelspec": {
   "display_name": "Python 3 (ipykernel)",
   "language": "python",
   "name": "python3"
  },
  "language_info": {
   "codemirror_mode": {
    "name": "ipython",
    "version": 3
   },
   "file_extension": ".py",
   "mimetype": "text/x-python",
   "name": "python",
   "nbconvert_exporter": "python",
   "pygments_lexer": "ipython3",
   "version": "3.12.5"
  }
 },
 "nbformat": 4,
 "nbformat_minor": 4
}
